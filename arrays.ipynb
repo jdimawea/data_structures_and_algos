{
 "cells": [
  {
   "cell_type": "markdown",
   "id": "adac17f2-42ae-4927-b6a5-06f770c48398",
   "metadata": {},
   "source": [
    "# Arrays"
   ]
  },
  {
   "cell_type": "markdown",
   "id": "1676f1ec-c85d-4bcd-88af-c49e6cf4fb50",
   "metadata": {},
   "source": [
    "## What are Arrays?\n",
    "An array is a collection of elements, each identified by an array index or key. Arrays are used to store multiple values in a single variable, instead of declaring sepparate variables for each value."
   ]
  },
  {
   "cell_type": "markdown",
   "id": "eee13633-6b29-4bc6-8acd-ef218095fb78",
   "metadata": {
    "jp-MarkdownHeadingCollapsed": true
   },
   "source": [
    "## Types of Arrays"
   ]
  },
  {
   "cell_type": "markdown",
   "id": "880d3a68-ac38-49b8-8735-2a3e4cc693d2",
   "metadata": {},
   "source": [
    "1. Static Arrays (fixed size)\n",
    "    - These have fixed size which is determined at the time of array declaration.\n",
    "    - Example:"
   ]
  },
  {
   "cell_type": "code",
   "execution_count": 22,
   "id": "70165c20-a750-45b3-977f-cd3421b09351",
   "metadata": {},
   "outputs": [
    {
     "name": "stdout",
     "output_type": "stream",
     "text": [
      "[0, 0, 0, 0, 0, 0, 0, 0, 0, 0]\n"
     ]
    }
   ],
   "source": [
    "arr = [0] * 10 # creates a list of 10 zeros\n",
    "print(arr)"
   ]
  },
  {
   "cell_type": "markdown",
   "id": "cf3c05cf-7c30-42f2-9d7c-7cf54ad5ef3f",
   "metadata": {},
   "source": [
    "2. Dynamic Arrays\n",
    "    - Python lists are dynamic and can grow or shrink as needed.\n",
    "    - Example:"
   ]
  },
  {
   "cell_type": "code",
   "execution_count": 23,
   "id": "9ddaf74f-8d03-45f2-a76d-8478aafff207",
   "metadata": {},
   "outputs": [
    {
     "name": "stdout",
     "output_type": "stream",
     "text": [
      "[1, 2, 3, 4]\n"
     ]
    }
   ],
   "source": [
    "arr = [1, 2, 3]\n",
    "arr.append(4) # adds 4 to the end of the list\n",
    "print(arr)"
   ]
  },
  {
   "cell_type": "markdown",
   "id": "17035820-bd70-4f4d-b3aa-d2da9ca1c2a9",
   "metadata": {},
   "source": [
    "3. Multidimensional Arrays\n",
    "   - These can be created using nested lists.\n",
    "   - Example:"
   ]
  },
  {
   "cell_type": "code",
   "execution_count": 24,
   "id": "7fd1a696-e40e-4947-900f-82cda208f81d",
   "metadata": {},
   "outputs": [
    {
     "name": "stdout",
     "output_type": "stream",
     "text": [
      "[[1, 2, 3], [4, 5, 6], [7, 8, 9]]\n"
     ]
    }
   ],
   "source": [
    "matrix = [\n",
    "    [1, 2, 3],\n",
    "    [4, 5, 6],\n",
    "    [7, 8, 9] \n",
    "]\n",
    "print(matrix)"
   ]
  },
  {
   "cell_type": "markdown",
   "id": "bfebb7cb-5da5-4c9d-8a7a-10ac6c94d118",
   "metadata": {
    "jp-MarkdownHeadingCollapsed": true
   },
   "source": [
    "## Operations on Arrays"
   ]
  },
  {
   "cell_type": "markdown",
   "id": "b3e796f4-a5f8-4796-9d5f-9a9a38b0af25",
   "metadata": {},
   "source": [
    "1. Accessing Elements\n",
    "   - You can access elements by their index.\n",
    "   - Example:"
   ]
  },
  {
   "cell_type": "code",
   "execution_count": 25,
   "id": "04cf4293-9001-4724-865a-8a339d26bea0",
   "metadata": {},
   "outputs": [
    {
     "name": "stdout",
     "output_type": "stream",
     "text": [
      "1\n"
     ]
    }
   ],
   "source": [
    "arr = [1, 2, 3]\n",
    "arr.append(4) # Inserting 4 to the end of the array\n",
    "print(arr[0]) # Printing 1 which is in position 0"
   ]
  },
  {
   "cell_type": "markdown",
   "id": "b411e3e5-04ad-4859-9787-3bd928bf32b9",
   "metadata": {},
   "source": [
    "2. Inserting Elements\n",
    "   - You can append elements to the end or insert them at a specific index.\n",
    "   - Example:"
   ]
  },
  {
   "cell_type": "code",
   "execution_count": 26,
   "id": "4ce0a01d-38c9-4a2b-b274-fa6afbdf50b7",
   "metadata": {},
   "outputs": [
    {
     "name": "stdout",
     "output_type": "stream",
     "text": [
      "[1, 5, 2, 3, 4]\n"
     ]
    }
   ],
   "source": [
    "arr = [1, 2, 3]\n",
    "arr.append(4) # Appending 4 to the end of the array.\n",
    "arr.insert(1, 5) # Inserting the number 5 at index 1. \n",
    "print(arr)"
   ]
  },
  {
   "cell_type": "markdown",
   "id": "622cd3ac-c205-4591-8060-51b1db5f9301",
   "metadata": {},
   "source": [
    "3. Deleting Elements\n",
    "   - You can remove elements by value or by index.\n",
    "   - Example:"
   ]
  },
  {
   "cell_type": "code",
   "execution_count": 27,
   "id": "a54f358f-6b30-4247-9202-365f097a762c",
   "metadata": {},
   "outputs": [
    {
     "name": "stdout",
     "output_type": "stream",
     "text": [
      "[3, 2]\n"
     ]
    }
   ],
   "source": [
    "arr = [1, 2, 3, 2]\n",
    "arr.remove(2) # Removes the first occurence of 2\n",
    "del arr[0] # Removes the element at index 0\n",
    "print(arr)"
   ]
  },
  {
   "cell_type": "markdown",
   "id": "5a070e5e-67e0-4944-b659-767eae532952",
   "metadata": {},
   "source": [
    "4. Iterating over Elements\n",
    "   - You can iterate through elements using loops.\n",
    "   - Example:"
   ]
  },
  {
   "cell_type": "code",
   "execution_count": 28,
   "id": "491fe607-59dc-409e-8881-bcd9ba40e342",
   "metadata": {},
   "outputs": [
    {
     "name": "stdout",
     "output_type": "stream",
     "text": [
      "1\n",
      "2\n",
      "3\n",
      "4\n",
      "5\n",
      "6\n"
     ]
    }
   ],
   "source": [
    "arr = [1, 2, 3, 4, 5, 6]\n",
    "for element in arr:\n",
    "    print(element)"
   ]
  },
  {
   "cell_type": "markdown",
   "id": "412ff188-0d7f-4eff-a6c1-a27e44d17688",
   "metadata": {
    "jp-MarkdownHeadingCollapsed": true
   },
   "source": [
    "## Common Algorithms Involving Arrays"
   ]
  },
  {
   "cell_type": "markdown",
   "id": "ba761ce0-3c3b-4231-a642-fc2814c08eaa",
   "metadata": {
    "jp-MarkdownHeadingCollapsed": true
   },
   "source": [
    "### - Sorting"
   ]
  },
  {
   "cell_type": "markdown",
   "id": "2f50aa38-06c7-48a7-82b8-7934dc9f59dc",
   "metadata": {
    "jp-MarkdownHeadingCollapsed": true
   },
   "source": [
    "#### -- Bubble Sort"
   ]
  },
  {
   "cell_type": "code",
   "execution_count": 29,
   "id": "cb7d970b-6f86-4497-a50e-0870148e572d",
   "metadata": {},
   "outputs": [
    {
     "name": "stdout",
     "output_type": "stream",
     "text": [
      "Sorted array is: [11, 12, 22, 25, 34, 64, 90]\n"
     ]
    }
   ],
   "source": [
    "def bubble_sort(arr):\n",
    "    n = len(arr)\n",
    "    for i in range(n):\n",
    "        for j in range(0, n-i-1):\n",
    "            if arr[j] > arr[j+1]:\n",
    "                arr[j], arr[j+1] = arr[j+1], arr[j]\n",
    "\n",
    "arr = [64, 34, 25, 12, 22, 11, 90]\n",
    "bubble_sort(arr)\n",
    "print(f'Sorted array is: {arr}')"
   ]
  },
  {
   "cell_type": "markdown",
   "id": "b1079939-1f44-4d5f-bec2-58fd2b603bde",
   "metadata": {
    "jp-MarkdownHeadingCollapsed": true
   },
   "source": [
    "### - Searching"
   ]
  },
  {
   "cell_type": "markdown",
   "id": "09cc2cf2-b60b-4a22-8464-eaf8ac2657a3",
   "metadata": {},
   "source": [
    "#### -- Linear Search"
   ]
  },
  {
   "cell_type": "code",
   "execution_count": 30,
   "id": "bbe928ba-08e4-42a2-bc2f-60232fe3890d",
   "metadata": {},
   "outputs": [
    {
     "name": "stdout",
     "output_type": "stream",
     "text": [
      "Element is at index 3\n"
     ]
    }
   ],
   "source": [
    "def linear_search(arr, x):\n",
    "    for i in range(len(arr)):\n",
    "        if arr[i] == x:\n",
    "            return i\n",
    "    return -1\n",
    "\n",
    "arr = [2, 3, 4, 10, 40]\n",
    "x = 10\n",
    "result = linear_search(arr, x)\n",
    "print(f'Element is at index {result}')"
   ]
  },
  {
   "cell_type": "markdown",
   "id": "fdde419e-567f-435b-b280-dba8328fc97d",
   "metadata": {},
   "source": [
    "#### -- Binary Search (requires sorted array)"
   ]
  },
  {
   "cell_type": "code",
   "execution_count": 32,
   "id": "aef5242e-8079-435c-99ac-bd958ad00cd6",
   "metadata": {},
   "outputs": [
    {
     "name": "stdout",
     "output_type": "stream",
     "text": [
      "Element is at index 0\n"
     ]
    }
   ],
   "source": [
    "def binary_search(arr, x):\n",
    "    low = 0\n",
    "    high = len(arr) - 1\n",
    "    mid = 0\n",
    "\n",
    "    while low <= high:\n",
    "        mid = (high + low) // 2\n",
    "        if arr[mid] < x:\n",
    "            low = mid + 1\n",
    "        elif arr[mid] > x:\n",
    "            high = mid - 1\n",
    "        else:\n",
    "            return mid\n",
    "    return -1\n",
    "\n",
    "arr = [2, 3, 4, 10, 40]\n",
    "x = 2\n",
    "result = binary_search(arr, x)\n",
    "print(f'Element is at index {result}')"
   ]
  },
  {
   "cell_type": "markdown",
   "id": "c8e48fac-b344-4211-a4d8-6675457d13dc",
   "metadata": {
    "jp-MarkdownHeadingCollapsed": true
   },
   "source": [
    "### - Merging"
   ]
  },
  {
   "cell_type": "markdown",
   "id": "05f7b8f0-0b8d-4f9b-948d-68876d9e80e8",
   "metadata": {},
   "source": [
    "#### -- Merging two sorted arrays:"
   ]
  },
  {
   "cell_type": "code",
   "execution_count": 34,
   "id": "458cfed1-fde9-4a73-ab20-d378fce9f811",
   "metadata": {},
   "outputs": [
    {
     "name": "stdout",
     "output_type": "stream",
     "text": [
      "Merged array is: [1, 2, 3, 4, 5, 6]\n"
     ]
    }
   ],
   "source": [
    "def merge(arr1, arr2):\n",
    "    merged_array = []\n",
    "    i = j = 0\n",
    "    while i < len(arr1) and j < len(arr2):\n",
    "        if arr1[i] < arr2[j]:\n",
    "            merged_array.append(arr1[i])\n",
    "            i += 1\n",
    "        else:\n",
    "            merged_array.append(arr2[j])\n",
    "            j += 1\n",
    "    merged_array.extend(arr1[i:])\n",
    "    merged_array.extend(arr2[j:])\n",
    "    return merged_array\n",
    "\n",
    "arr1 = [1, 3, 5]\n",
    "arr2 = [2, 4, 6]\n",
    "result = merge(arr1, arr2)\n",
    "print(f'Merged array is: {result}')"
   ]
  },
  {
   "cell_type": "markdown",
   "id": "24da07a5-d05a-413c-80f0-dd858ead5a9a",
   "metadata": {
    "jp-MarkdownHeadingCollapsed": true
   },
   "source": [
    "### - Reversing"
   ]
  },
  {
   "cell_type": "code",
   "execution_count": 35,
   "id": "dd2cee79-a201-4599-a6ec-b60b0d386e27",
   "metadata": {},
   "outputs": [
    {
     "name": "stdout",
     "output_type": "stream",
     "text": [
      "[5, 4, 3, 2, 1]\n"
     ]
    }
   ],
   "source": [
    "arr = [1, 2, 3, 4, 5]\n",
    "arr.reverse()\n",
    "print(arr) "
   ]
  },
  {
   "cell_type": "code",
   "execution_count": null,
   "id": "918f65c7-d6d2-424d-b917-1127fd147a7f",
   "metadata": {},
   "outputs": [],
   "source": []
  }
 ],
 "metadata": {
  "kernelspec": {
   "display_name": "Python 3 (ipykernel)",
   "language": "python",
   "name": "python3"
  },
  "language_info": {
   "codemirror_mode": {
    "name": "ipython",
    "version": 3
   },
   "file_extension": ".py",
   "mimetype": "text/x-python",
   "name": "python",
   "nbconvert_exporter": "python",
   "pygments_lexer": "ipython3",
   "version": "3.12.3"
  }
 },
 "nbformat": 4,
 "nbformat_minor": 5
}
