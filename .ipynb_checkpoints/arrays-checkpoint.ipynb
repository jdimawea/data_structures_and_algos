{
 "cells": [
  {
   "cell_type": "markdown",
   "id": "adac17f2-42ae-4927-b6a5-06f770c48398",
   "metadata": {},
   "source": [
    "# Arrays"
   ]
  },
  {
   "cell_type": "markdown",
   "id": "1676f1ec-c85d-4bcd-88af-c49e6cf4fb50",
   "metadata": {},
   "source": [
    "## What are Arrays?\n",
    "An array is a collection of elements, each identified by an array index or key. Arrays are used to store multiple values in a single variable, instead of declaring sepparate variables for each value."
   ]
  },
  {
   "cell_type": "markdown",
   "id": "eee13633-6b29-4bc6-8acd-ef218095fb78",
   "metadata": {
    "jp-MarkdownHeadingCollapsed": true
   },
   "source": [
    "## Types of Arrays"
   ]
  },
  {
   "cell_type": "markdown",
   "id": "880d3a68-ac38-49b8-8735-2a3e4cc693d2",
   "metadata": {},
   "source": [
    "1. Static Arrays (fixed size)\n",
    "    - These have fixed size which is determined at the time of array declaration.\n",
    "    - Example:"
   ]
  },
  {
   "cell_type": "code",
   "execution_count": 6,
   "id": "70165c20-a750-45b3-977f-cd3421b09351",
   "metadata": {},
   "outputs": [
    {
     "name": "stdout",
     "output_type": "stream",
     "text": [
      "[0, 0, 0, 0, 0, 0, 0, 0, 0, 0]\n"
     ]
    }
   ],
   "source": [
    "arr = [0] * 10 # creates a list of 10 zeros\n",
    "print(arr)"
   ]
  },
  {
   "cell_type": "markdown",
   "id": "cf3c05cf-7c30-42f2-9d7c-7cf54ad5ef3f",
   "metadata": {},
   "source": [
    "2. Dynamic Arrays\n",
    "    - Python lists are dynamic and can grow or shrink as needed.\n",
    "    - Example:"
   ]
  },
  {
   "cell_type": "code",
   "execution_count": 5,
   "id": "9ddaf74f-8d03-45f2-a76d-8478aafff207",
   "metadata": {},
   "outputs": [
    {
     "name": "stdout",
     "output_type": "stream",
     "text": [
      "[1, 2, 3, 4]\n"
     ]
    }
   ],
   "source": [
    "arr = [1, 2, 3]\n",
    "arr.append(4) # adds 4 to the end of the list\n",
    "print(arr)"
   ]
  },
  {
   "cell_type": "markdown",
   "id": "17035820-bd70-4f4d-b3aa-d2da9ca1c2a9",
   "metadata": {},
   "source": [
    "3. Multidimensional Arrays\n",
    "   - These can be created using nested lists.\n",
    "   - Example:"
   ]
  },
  {
   "cell_type": "code",
   "execution_count": 7,
   "id": "7fd1a696-e40e-4947-900f-82cda208f81d",
   "metadata": {},
   "outputs": [
    {
     "name": "stdout",
     "output_type": "stream",
     "text": [
      "[[1, 2, 3], [4, 5, 6], [7, 8, 9]]\n"
     ]
    }
   ],
   "source": [
    "matrix = [\n",
    "    [1, 2, 3],\n",
    "    [4, 5, 6],\n",
    "    [7, 8, 9] \n",
    "]\n",
    "print(matrix)"
   ]
  },
  {
   "cell_type": "markdown",
   "id": "bfebb7cb-5da5-4c9d-8a7a-10ac6c94d118",
   "metadata": {},
   "source": [
    "## Operations on Arrays"
   ]
  },
  {
   "cell_type": "markdown",
   "id": "b3e796f4-a5f8-4796-9d5f-9a9a38b0af25",
   "metadata": {},
   "source": [
    "1. Accessing Elements\n",
    "   - You can access elements by their index.\n",
    "   - Example:"
   ]
  },
  {
   "cell_type": "code",
   "execution_count": 8,
   "id": "04cf4293-9001-4724-865a-8a339d26bea0",
   "metadata": {},
   "outputs": [
    {
     "name": "stdout",
     "output_type": "stream",
     "text": [
      "1\n"
     ]
    }
   ],
   "source": [
    "arr = [1, 2, 3]\n",
    "arr.append(4) # Inserting 4 to the end of the array\n",
    "print(arr[0]) # Printing 1 which is in position 0"
   ]
  },
  {
   "cell_type": "markdown",
   "id": "b411e3e5-04ad-4859-9787-3bd928bf32b9",
   "metadata": {},
   "source": [
    "2. Inserting Elements\n",
    "   - You can append elements to the end or insert them at a specific index.\n",
    "   - Example:"
   ]
  },
  {
   "cell_type": "code",
   "execution_count": 9,
   "id": "4ce0a01d-38c9-4a2b-b274-fa6afbdf50b7",
   "metadata": {},
   "outputs": [
    {
     "name": "stdout",
     "output_type": "stream",
     "text": [
      "[1, 5, 2, 3, 4]\n"
     ]
    }
   ],
   "source": [
    "arr = [1, 2, 3]\n",
    "arr.append(4) # Appending 4 to the end of the array.\n",
    "arr.insert(1, 5) # Inserting the number 5 at index 1. \n",
    "print(arr)"
   ]
  },
  {
   "cell_type": "markdown",
   "id": "622cd3ac-c205-4591-8060-51b1db5f9301",
   "metadata": {},
   "source": [
    "3. Deleting Elements\n",
    "   - You can remove elements by value or by index.\n",
    "   - Example:"
   ]
  },
  {
   "cell_type": "code",
   "execution_count": 12,
   "id": "a54f358f-6b30-4247-9202-365f097a762c",
   "metadata": {},
   "outputs": [
    {
     "name": "stdout",
     "output_type": "stream",
     "text": [
      "[3, 2]\n"
     ]
    }
   ],
   "source": [
    "arr = [1, 2, 3, 2]\n",
    "arr.remove(2) # Removes the first occurence of 2\n",
    "del arr[0] # Removes the element at index 0\n",
    "print(arr)"
   ]
  },
  {
   "cell_type": "markdown",
   "id": "5a070e5e-67e0-4944-b659-767eae532952",
   "metadata": {},
   "source": [
    "4. Iterating over Elements\n",
    "   - You can iterate through elements using loops.\n",
    "   - Example:"
   ]
  },
  {
   "cell_type": "code",
   "execution_count": 13,
   "id": "491fe607-59dc-409e-8881-bcd9ba40e342",
   "metadata": {},
   "outputs": [
    {
     "name": "stdout",
     "output_type": "stream",
     "text": [
      "1\n",
      "2\n",
      "3\n",
      "4\n",
      "5\n",
      "6\n"
     ]
    }
   ],
   "source": [
    "arr = [1, 2, 3, 4, 5, 6]\n",
    "for element in arr:\n",
    "    print(element)"
   ]
  },
  {
   "cell_type": "code",
   "execution_count": null,
   "id": "c69d280d-a2f6-42d8-b62e-48eb4008befa",
   "metadata": {},
   "outputs": [],
   "source": []
  }
 ],
 "metadata": {
  "kernelspec": {
   "display_name": "Python 3 (ipykernel)",
   "language": "python",
   "name": "python3"
  },
  "language_info": {
   "codemirror_mode": {
    "name": "ipython",
    "version": 3
   },
   "file_extension": ".py",
   "mimetype": "text/x-python",
   "name": "python",
   "nbconvert_exporter": "python",
   "pygments_lexer": "ipython3",
   "version": "3.12.3"
  }
 },
 "nbformat": 4,
 "nbformat_minor": 5
}
