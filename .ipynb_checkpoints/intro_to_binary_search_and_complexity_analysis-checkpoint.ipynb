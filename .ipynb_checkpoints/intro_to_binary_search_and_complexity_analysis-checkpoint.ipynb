{
 "cells": [
  {
   "cell_type": "markdown",
   "id": "76fc3d2d-0a10-4297-a95a-5be12f240a8c",
   "metadata": {},
   "source": [
    "# Intro to Binary Search and Complexity Analysis using Python"
   ]
  },
  {
   "cell_type": "markdown",
   "id": "0ea86b8a-75ef-4a82-9a30-0491e660b022",
   "metadata": {},
   "source": [
    "## Method\n",
    "### 1. State the problem clearly. Identify the input and output formats. (state it in your own words)\n",
    "### 2. Come up with some example inputs and outputs. Try to cover all edge cases.\n",
    "### 3. Come up with a correct solution for the problem. State it in plain English.\n",
    "### 4. Implement the solution and test it using example inputs. Fix bugs, if any.\n",
    "### 5. Analyze the algorithm's complexity and identify inefficiencies, if any.\n",
    "### 6. Apply the right technique to overcome the inefficiency. Repeat steps 3 - 6"
   ]
  },
  {
   "cell_type": "markdown",
   "id": "18283799-6981-4042-ad35-d106bc2e468a",
   "metadata": {},
   "source": [
    "## Problem \n",
    "\n",
    "This course takes a coding-focused approach towards learning. In each notebook, we'll focus on solving one problem, and learn the techniques, algorithms, and data structures to devise an *efficient* solution. We will then generalize the technique and apply it to other problems.\n",
    "\n",
    "\n",
    "\n",
    "In this notebook, we focus on solving the following problem:\n",
    "\n",
    "> **QUESTION 1:** Alice has some cards with numbers written on them. She arranges the cards in decreasing order, and lays them out face down in a sequence on a table. She challenges Bob to pick out the card containing a given number by turning over as few cards as possible. Write a function to help Bob locate the card.\n",
    "\n",
    "<img src=\"https://i.imgur.com/mazym6s.png\" width=\"480\">\n",
    "\n",
    "This may seem like a simple problem, especially if you're familiar with the concept of _binary search_, but the strategy and technique we learning here will be widely applicable, and we'll soon use it to solve harder problems."
   ]
  },
  {
   "cell_type": "markdown",
   "id": "659f66ff-5711-4172-befd-5fdc50557dcc",
   "metadata": {},
   "source": [
    "## Solution\n"
   ]
  },
  {
   "cell_type": "markdown",
   "id": "c6e1fe02-da3f-44ac-9574-531d7575c1d2",
   "metadata": {},
   "source": [
    "### 1. State the problem clearly in your own words. Identify the input and outputs"
   ]
  },
  {
   "cell_type": "markdown",
   "id": "4042084c-0a2c-4681-95c5-cb8179f0b578",
   "metadata": {},
   "source": [
    "#### Problem\n",
    "    Create a function that finds the position of a givin number in a list of numbers arranged in decreasing order. Must find the most efficient path to the number"
   ]
  },
  {
   "cell_type": "markdown",
   "id": "4a2135c6-dae8-4f17-9880-da90d6b12f96",
   "metadata": {},
   "source": [
    "#### Input\n",
    "    cards: A list of numbers sorted in decreasing order \n",
    "    number: A number you must find in the list of numbers (array)"
   ]
  },
  {
   "cell_type": "markdown",
   "id": "95b3f9f6-71c8-4f05-842b-3550b9e169f0",
   "metadata": {},
   "source": [
    "#### Output\n",
    "    The position of the card in the list of cards"
   ]
  },
  {
   "cell_type": "code",
   "execution_count": 5,
   "id": "78c2d83a-51ff-4f3c-b245-0024ff34a89f",
   "metadata": {},
   "outputs": [],
   "source": [
    "def locate_card(cards, number):\n",
    "    pass"
   ]
  },
  {
   "cell_type": "markdown",
   "id": "faeafd2a-7549-4ed0-a607-69862924f1d2",
   "metadata": {},
   "source": [
    "### 2. Example inputs and outputs. Try to cover all edge cases."
   ]
  },
  {
   "cell_type": "code",
   "execution_count": 6,
   "id": "aa71a2df-789d-4c3d-9562-c42a0b9dea6e",
   "metadata": {},
   "outputs": [],
   "source": [
    "cards = [13, 11, 10, 7, 4, 3, 1, 0]\n",
    "number = 7\n",
    "output = 3 "
   ]
  },
  {
   "cell_type": "markdown",
   "id": "dc8f55af-9861-4d8e-8e24-a4ba7d0a7582",
   "metadata": {},
   "source": [
    "Or you can use dictionaries to represent test cases to make it easier to test once we implement the function. "
   ]
  },
  {
   "cell_type": "code",
   "execution_count": 7,
   "id": "92fe06e7-d085-4530-8bd2-e08573161a55",
   "metadata": {},
   "outputs": [],
   "source": [
    "test = {\n",
    "    'input': {\n",
    "        'cards': [13, 11, 10, 7, 4, 3, 1, 0],\n",
    "        'number': 7\n",
    "    },\n",
    "    'output': 3\n",
    "}"
   ]
  },
  {
   "cell_type": "code",
   "execution_count": null,
   "id": "33a0b9c8-781f-4802-9816-a5f36641d024",
   "metadata": {},
   "outputs": [],
   "source": []
  }
 ],
 "metadata": {
  "kernelspec": {
   "display_name": "Python 3 (ipykernel)",
   "language": "python",
   "name": "python3"
  },
  "language_info": {
   "codemirror_mode": {
    "name": "ipython",
    "version": 3
   },
   "file_extension": ".py",
   "mimetype": "text/x-python",
   "name": "python",
   "nbconvert_exporter": "python",
   "pygments_lexer": "ipython3",
   "version": "3.12.3"
  }
 },
 "nbformat": 4,
 "nbformat_minor": 5
}
