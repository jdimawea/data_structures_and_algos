{
 "cells": [
  {
   "cell_type": "markdown",
   "id": "464ce395-2545-425e-b73c-c9a477dd1d64",
   "metadata": {
    "jp-MarkdownHeadingCollapsed": true
   },
   "source": [
    "# Phase 1: Fundamental Data Structures"
   ]
  },
  {
   "cell_type": "markdown",
   "id": "e4163c5c-41df-471c-a924-6de0dee4ae70",
   "metadata": {
    "jp-MarkdownHeadingCollapsed": true
   },
   "source": [
    "## 1. Arrays"
   ]
  },
  {
   "cell_type": "markdown",
   "id": "466a62d2-5da4-4ed8-9957-ef6d7f6efcb2",
   "metadata": {},
   "source": [
    "### - Basics of Arrays"
   ]
  },
  {
   "cell_type": "markdown",
   "id": "9ac4eb4f-b94c-4a7e-956c-39d026d7b696",
   "metadata": {},
   "source": [
    "### - Dynamic Arrays"
   ]
  },
  {
   "cell_type": "markdown",
   "id": "318e4fec-8122-428a-b1b2-88f96f376be2",
   "metadata": {},
   "source": [
    "### - Multidimensional Arrays"
   ]
  },
  {
   "cell_type": "markdown",
   "id": "91da63b3-0004-4cd2-b1f8-e2e6b72b6358",
   "metadata": {
    "jp-MarkdownHeadingCollapsed": true
   },
   "source": [
    "## 2. Linked Lists"
   ]
  },
  {
   "cell_type": "markdown",
   "id": "6a6de9d2-176e-49b6-bf64-d81db12e84da",
   "metadata": {
    "jp-MarkdownHeadingCollapsed": true
   },
   "source": [
    "### - Singly Linked List"
   ]
  },
  {
   "cell_type": "markdown",
   "id": "2aee5199-3f50-449c-a3ca-d12ee2d2da63",
   "metadata": {},
   "source": [
    "#### -- Insertion"
   ]
  },
  {
   "cell_type": "markdown",
   "id": "312f0611-fe28-4f99-9717-65858bdd2092",
   "metadata": {},
   "source": [
    "#### -- Deletion"
   ]
  },
  {
   "cell_type": "markdown",
   "id": "54beddb7-c0d6-4bc8-8e15-521b640572d1",
   "metadata": {},
   "source": [
    "#### -- Traversal"
   ]
  },
  {
   "cell_type": "markdown",
   "id": "937df2a9-bbe7-4c34-9353-c6dfc03ebca9",
   "metadata": {
    "jp-MarkdownHeadingCollapsed": true
   },
   "source": [
    "### - Doubly Linked List"
   ]
  },
  {
   "cell_type": "markdown",
   "id": "ff8d4f39-317f-4d1f-9012-ae7d904a0653",
   "metadata": {},
   "source": [
    "#### -- Insertion"
   ]
  },
  {
   "cell_type": "markdown",
   "id": "18b50e65-267f-402b-98ea-125643d37521",
   "metadata": {},
   "source": [
    "#### -- Deletion"
   ]
  },
  {
   "cell_type": "markdown",
   "id": "c07f3eae-2a75-4054-94f0-e40af868bb05",
   "metadata": {},
   "source": [
    "#### -- Traversal"
   ]
  },
  {
   "cell_type": "markdown",
   "id": "949b3cca-41a4-4933-bff5-f17cf01d6208",
   "metadata": {
    "jp-MarkdownHeadingCollapsed": true
   },
   "source": [
    "### - Circular Linked List"
   ]
  },
  {
   "cell_type": "markdown",
   "id": "b2e2ada5-d848-4837-a302-57255e7eddc3",
   "metadata": {},
   "source": [
    "#### -- Insertion"
   ]
  },
  {
   "cell_type": "markdown",
   "id": "beee568c-2fad-47ba-8ea7-3cfdac64516d",
   "metadata": {},
   "source": [
    "#### -- Deletion"
   ]
  },
  {
   "cell_type": "markdown",
   "id": "03e21ff2-2790-4281-b554-04455db77eb1",
   "metadata": {},
   "source": [
    "#### -- Traversal"
   ]
  },
  {
   "cell_type": "markdown",
   "id": "1fcb2bd0-bdba-42a6-a2da-a2a95a486fe4",
   "metadata": {
    "jp-MarkdownHeadingCollapsed": true
   },
   "source": [
    "## 3. Stacks"
   ]
  },
  {
   "cell_type": "markdown",
   "id": "1a356206-d36e-47c2-8c74-2717a6030e6c",
   "metadata": {},
   "source": [
    "### - Array-based Implementation"
   ]
  },
  {
   "cell_type": "markdown",
   "id": "11ea34f3-5d34-44a4-9fe3-4812a3bf89d8",
   "metadata": {},
   "source": [
    "### - Linked List-based Implementation"
   ]
  },
  {
   "cell_type": "markdown",
   "id": "5f2273f0-18bb-47a8-9649-d0f51d09204c",
   "metadata": {},
   "source": [
    "### - Applications (Expression Evaluation, Syntax Parsing)"
   ]
  },
  {
   "cell_type": "markdown",
   "id": "b387092e-e845-42b6-a3f7-51050a53dc7b",
   "metadata": {
    "jp-MarkdownHeadingCollapsed": true
   },
   "source": [
    "## 4. Queues"
   ]
  },
  {
   "cell_type": "markdown",
   "id": "18054075-9aa8-4e1a-a2fa-1d0db13b2846",
   "metadata": {
    "jp-MarkdownHeadingCollapsed": true
   },
   "source": [
    "### - Array-based Implementation"
   ]
  },
  {
   "cell_type": "markdown",
   "id": "4aff6de5-204b-4449-8a60-f4c70016f4be",
   "metadata": {
    "jp-MarkdownHeadingCollapsed": true
   },
   "source": [
    "### - Linked List-based Implementation"
   ]
  },
  {
   "cell_type": "markdown",
   "id": "d07da356-789f-4b9d-aff4-a6a1126a46f6",
   "metadata": {
    "jp-MarkdownHeadingCollapsed": true
   },
   "source": [
    "### - Circular Queue"
   ]
  },
  {
   "cell_type": "markdown",
   "id": "5d4bd9f1-a586-4b80-bd62-2a1628e8580e",
   "metadata": {
    "jp-MarkdownHeadingCollapsed": true
   },
   "source": [
    "### - Priority Queue"
   ]
  },
  {
   "cell_type": "markdown",
   "id": "0c012148-f0b2-4dad-a630-4f920f8bd83b",
   "metadata": {
    "jp-MarkdownHeadingCollapsed": true
   },
   "source": [
    "### - Deque (Double-ended Queue)"
   ]
  },
  {
   "cell_type": "markdown",
   "id": "27ef5eb7-1a9d-4b97-89ab-2a56faf66bae",
   "metadata": {
    "jp-MarkdownHeadingCollapsed": true
   },
   "source": [
    "# Phase 2: Basic Algorithms"
   ]
  },
  {
   "cell_type": "markdown",
   "id": "ad696a36-1eed-4456-b6a3-cfc5be610903",
   "metadata": {
    "jp-MarkdownHeadingCollapsed": true
   },
   "source": [
    "## 1. Sorting Algorithms"
   ]
  },
  {
   "cell_type": "markdown",
   "id": "dcff16ce-5306-4e91-804f-269468186b94",
   "metadata": {},
   "source": [
    "### - Bubble Sort"
   ]
  },
  {
   "cell_type": "markdown",
   "id": "e65b79b8-80d1-4c8a-94b3-dc8f715b12b6",
   "metadata": {},
   "source": [
    "### - Selection Sort"
   ]
  },
  {
   "cell_type": "markdown",
   "id": "8e7e94b1-f64a-4947-89df-d64c311a6bb6",
   "metadata": {},
   "source": [
    "### - Insertion Sort"
   ]
  },
  {
   "cell_type": "markdown",
   "id": "00bca095-7568-494a-adc5-2c9ab7df4399",
   "metadata": {
    "jp-MarkdownHeadingCollapsed": true
   },
   "source": [
    "## 2. Searching Algorithms"
   ]
  },
  {
   "cell_type": "markdown",
   "id": "c0151bfd-7f50-4caa-a996-bc4ebb5229a3",
   "metadata": {},
   "source": [
    "### - Linear Search"
   ]
  },
  {
   "cell_type": "markdown",
   "id": "75975de5-98df-4672-a211-7479c74602c6",
   "metadata": {},
   "source": [
    "### - Binary Search"
   ]
  },
  {
   "cell_type": "markdown",
   "id": "5eaa8d7c-eada-42c8-8453-5aa40b8e7cec",
   "metadata": {
    "jp-MarkdownHeadingCollapsed": true
   },
   "source": [
    "# Phase 3: Intermediate Data Structures"
   ]
  },
  {
   "cell_type": "markdown",
   "id": "1d182b94-a6e3-455f-8bd5-5eaf571ceb07",
   "metadata": {
    "jp-MarkdownHeadingCollapsed": true
   },
   "source": [
    "## 1. Trees"
   ]
  },
  {
   "cell_type": "markdown",
   "id": "d42972ee-e0e9-4417-828b-5e3044ba8b39",
   "metadata": {
    "jp-MarkdownHeadingCollapsed": true
   },
   "source": [
    "### - Binary Trees"
   ]
  },
  {
   "cell_type": "markdown",
   "id": "65f5ae40-fd7d-4408-93cd-ff86c21f7bd4",
   "metadata": {},
   "source": [
    "#### -- Traversal (Inorder, Preorder, Postorder)"
   ]
  },
  {
   "cell_type": "markdown",
   "id": "a15e304b-f4d6-4a48-b018-77c2197516a5",
   "metadata": {
    "jp-MarkdownHeadingCollapsed": true
   },
   "source": [
    "### - Binary Search Trees (BST)"
   ]
  },
  {
   "cell_type": "markdown",
   "id": "94b7a734-40c1-4b0d-a42f-88c6ce882706",
   "metadata": {},
   "source": [
    "#### -- Insertion"
   ]
  },
  {
   "cell_type": "markdown",
   "id": "6f7607f4-f6fd-4457-a73f-37c40f49a1ac",
   "metadata": {},
   "source": [
    "#### -- Deletion"
   ]
  },
  {
   "cell_type": "markdown",
   "id": "e7c2afd7-d0b5-483a-8206-08ff89199e64",
   "metadata": {},
   "source": [
    "#### -- Search"
   ]
  },
  {
   "cell_type": "markdown",
   "id": "8d3a10b9-a22b-464d-861f-5cd4fe8ba09c",
   "metadata": {
    "jp-MarkdownHeadingCollapsed": true
   },
   "source": [
    "## 2. Heaps"
   ]
  },
  {
   "cell_type": "markdown",
   "id": "9b267d3b-d15e-4b75-88cc-d6cb95c15f67",
   "metadata": {},
   "source": [
    "### - Min Heap"
   ]
  },
  {
   "cell_type": "markdown",
   "id": "beb36709-fe0a-4d3c-a6ec-12ad8b7e12e6",
   "metadata": {},
   "source": [
    "### - Max Heap"
   ]
  },
  {
   "cell_type": "markdown",
   "id": "f0a438d4-67b1-48a4-bd21-7b9a026ed8ca",
   "metadata": {},
   "source": [
    "### - Heap Operations (Insert, Delete, Peek)"
   ]
  },
  {
   "cell_type": "markdown",
   "id": "adc5166f-8f86-4a00-9200-819b1630aaa0",
   "metadata": {
    "jp-MarkdownHeadingCollapsed": true
   },
   "source": [
    "## 3. Hashing"
   ]
  },
  {
   "cell_type": "markdown",
   "id": "6fbdf931-90a9-4c5c-b58a-c9c838e4beac",
   "metadata": {},
   "source": [
    "### - Hash Tables"
   ]
  },
  {
   "cell_type": "markdown",
   "id": "ab757680-9fd3-4736-93fc-c5836ea87948",
   "metadata": {},
   "source": [
    "### - Hash Functions"
   ]
  },
  {
   "cell_type": "markdown",
   "id": "dbb54d41-ed5a-4e6f-a461-1630039e2cd2",
   "metadata": {},
   "source": [
    "### - Collision Resolution Techniques (Chaining, Open Addressing)"
   ]
  },
  {
   "cell_type": "markdown",
   "id": "5a3667e9-5fb9-48ec-be1e-2d2323685bc2",
   "metadata": {
    "jp-MarkdownHeadingCollapsed": true
   },
   "source": [
    "# Phase 4: Intermediate Algorithms"
   ]
  },
  {
   "cell_type": "markdown",
   "id": "74a4d38b-d825-4f42-906a-2b370f730477",
   "metadata": {
    "jp-MarkdownHeadingCollapsed": true
   },
   "source": [
    "## 1. Advanced Sorting Algorithms"
   ]
  },
  {
   "cell_type": "markdown",
   "id": "da33bc42-7457-480c-9738-2d3fa5c386b2",
   "metadata": {},
   "source": [
    "### - Merge Sort"
   ]
  },
  {
   "cell_type": "markdown",
   "id": "73fb4e9d-523a-4913-9e01-938a9d7f082d",
   "metadata": {},
   "source": [
    "### - Quick Sort"
   ]
  },
  {
   "cell_type": "markdown",
   "id": "b4c1726b-54b6-49e8-a8bb-335d4d4433d8",
   "metadata": {},
   "source": [
    "### - Heap Sort"
   ]
  },
  {
   "cell_type": "markdown",
   "id": "c65af88e-34e1-4a35-8003-579360dd2a4e",
   "metadata": {
    "jp-MarkdownHeadingCollapsed": true
   },
   "source": [
    "## 2. Recursion and Recursive Algorithms"
   ]
  },
  {
   "cell_type": "markdown",
   "id": "5ec9d34b-28f0-4324-9ac2-314ee0024e86",
   "metadata": {},
   "source": [
    "### - Understanding Recursion"
   ]
  },
  {
   "cell_type": "markdown",
   "id": "a788fdc4-a5d6-4057-a5d8-4ee561f08547",
   "metadata": {},
   "source": [
    "### - Recursive Problem Solving"
   ]
  },
  {
   "cell_type": "markdown",
   "id": "0fb0f62f-2ec0-43ba-8baa-d1a0fabab271",
   "metadata": {
    "jp-MarkdownHeadingCollapsed": true
   },
   "source": [
    "# Phase 5: Advanced Data Structures"
   ]
  },
  {
   "cell_type": "markdown",
   "id": "f899cb68-af6c-4923-b6c9-3cb7f40f598d",
   "metadata": {
    "jp-MarkdownHeadingCollapsed": true
   },
   "source": [
    "## 1. Advanced Trees"
   ]
  },
  {
   "cell_type": "markdown",
   "id": "a9e1fe97-38e5-494e-b5f0-d1f99ee14708",
   "metadata": {},
   "source": [
    "### - AVL Trees"
   ]
  },
  {
   "cell_type": "markdown",
   "id": "b49138e1-785f-44d1-a73a-65bd223bc36b",
   "metadata": {},
   "source": [
    "### - Red-Black Trees"
   ]
  },
  {
   "cell_type": "markdown",
   "id": "8b9164e8-0ebd-4c48-a561-d7f6fba7ef45",
   "metadata": {},
   "source": [
    "### - B-Trees and B+Trees"
   ]
  },
  {
   "cell_type": "markdown",
   "id": "65672c84-be42-4709-bf6c-0309c3581736",
   "metadata": {},
   "source": [
    "### - Tries (Prefix Trees)"
   ]
  },
  {
   "cell_type": "markdown",
   "id": "19a40e8e-8042-4c80-a2c9-dc9ce6520fb9",
   "metadata": {
    "jp-MarkdownHeadingCollapsed": true
   },
   "source": [
    "## 2. Graphs"
   ]
  },
  {
   "cell_type": "markdown",
   "id": "aa3c75a1-7f73-4194-a317-f8a87f95de41",
   "metadata": {},
   "source": [
    "### - Graph Representation (Adjacency Matrix, Adjacency List)"
   ]
  },
  {
   "cell_type": "markdown",
   "id": "7a7ac489-80bd-4fe7-8413-1d8511bfd6a3",
   "metadata": {},
   "source": [
    "### - Direct and Undirected Graphs"
   ]
  },
  {
   "cell_type": "markdown",
   "id": "a5e2cfa5-4070-44cb-abf1-6aedceeeef87",
   "metadata": {},
   "source": [
    "### - Weighted Graphs"
   ]
  },
  {
   "cell_type": "markdown",
   "id": "6b812097-5342-4d08-b8b4-6dcea30306a3",
   "metadata": {
    "jp-MarkdownHeadingCollapsed": true
   },
   "source": [
    "# Phase 6: Advanced Algorithms"
   ]
  },
  {
   "cell_type": "markdown",
   "id": "3c6e378d-dcdd-448d-b119-a031d3cebf7e",
   "metadata": {
    "jp-MarkdownHeadingCollapsed": true
   },
   "source": [
    "## 1. Graph Algorithms"
   ]
  },
  {
   "cell_type": "markdown",
   "id": "29ea28ee-4e08-433d-9764-620744b263eb",
   "metadata": {
    "jp-MarkdownHeadingCollapsed": true
   },
   "source": [
    "### - Depth First Search (DFS)"
   ]
  },
  {
   "cell_type": "markdown",
   "id": "0fdfd6b1-82eb-4344-914d-040500cfcb54",
   "metadata": {
    "jp-MarkdownHeadingCollapsed": true
   },
   "source": [
    "### - Breadth First Search (BFS)"
   ]
  },
  {
   "cell_type": "markdown",
   "id": "9bccd0fc-d250-45f2-a024-369fa270f44c",
   "metadata": {
    "jp-MarkdownHeadingCollapsed": true
   },
   "source": [
    "### - Dijkstra's Algorithm"
   ]
  },
  {
   "cell_type": "markdown",
   "id": "8a9d5322-162d-431d-b6f7-340524acbba1",
   "metadata": {
    "jp-MarkdownHeadingCollapsed": true
   },
   "source": [
    "### - Bellman-Ford Algorithm"
   ]
  },
  {
   "cell_type": "markdown",
   "id": "4feca553-2b62-4d7a-b4f9-3191ef74d6fe",
   "metadata": {
    "jp-MarkdownHeadingCollapsed": true
   },
   "source": [
    "### - Kruskal's Algorithm"
   ]
  },
  {
   "cell_type": "markdown",
   "id": "61904c6e-fd78-4e63-a7cd-b49d09c2c43f",
   "metadata": {
    "jp-MarkdownHeadingCollapsed": true
   },
   "source": [
    "### - Prim's Algorithm"
   ]
  },
  {
   "cell_type": "markdown",
   "id": "5e2950a3-376c-46fb-b170-b484b94838f3",
   "metadata": {
    "jp-MarkdownHeadingCollapsed": true
   },
   "source": [
    "### - Topological Sort"
   ]
  },
  {
   "cell_type": "markdown",
   "id": "a70b7d74-caec-4f35-b593-cbe9e1cd900c",
   "metadata": {
    "jp-MarkdownHeadingCollapsed": true
   },
   "source": [
    "### - Strongly Connected Components (Tarjan's Algorithm)"
   ]
  },
  {
   "cell_type": "markdown",
   "id": "83df0424-2452-4cf2-9070-dc9e4f5f7818",
   "metadata": {
    "jp-MarkdownHeadingCollapsed": true
   },
   "source": [
    "### - Network Flow (Ford-Fulkerson, Edmonds-Karp)"
   ]
  },
  {
   "cell_type": "markdown",
   "id": "dbd444cf-2762-49b0-a259-18064f1c43fe",
   "metadata": {
    "jp-MarkdownHeadingCollapsed": true
   },
   "source": [
    "## 2. Dynamic Programming"
   ]
  },
  {
   "cell_type": "markdown",
   "id": "5d5764bf-afa4-426f-9781-2c6c3193356f",
   "metadata": {
    "jp-MarkdownHeadingCollapsed": true
   },
   "source": [
    "### - Principles of Dynamic Programming"
   ]
  },
  {
   "cell_type": "markdown",
   "id": "d00aa5c7-df7a-43c6-b33b-441cb29e06f6",
   "metadata": {
    "jp-MarkdownHeadingCollapsed": true
   },
   "source": [
    "### - Common DP Problems (Knapsack, Longest Common Subsequence, Longest Increasing Subsequence, Matrix Chain Multiplication)"
   ]
  },
  {
   "cell_type": "markdown",
   "id": "be2d22df-712d-452f-9577-96c652b34093",
   "metadata": {
    "jp-MarkdownHeadingCollapsed": true
   },
   "source": [
    "## 3. Greedy Algorithms"
   ]
  },
  {
   "cell_type": "markdown",
   "id": "3f7feb2f-4b76-4cda-a8a5-81a00bde289d",
   "metadata": {
    "jp-MarkdownHeadingCollapsed": true
   },
   "source": [
    "### - Principles of Greedy Algorithms"
   ]
  },
  {
   "cell_type": "markdown",
   "id": "e82e6495-81ea-420c-86b4-401bd4c7eb95",
   "metadata": {
    "jp-MarkdownHeadingCollapsed": true
   },
   "source": [
    "### - Common Greedy Problems (Activity Selection, Huffman Coding, Fractional Knapsack)"
   ]
  },
  {
   "cell_type": "markdown",
   "id": "cbe9f4b9-8873-42f6-bc99-8f4ffc159542",
   "metadata": {
    "jp-MarkdownHeadingCollapsed": true
   },
   "source": [
    "## 4. Backtracking"
   ]
  },
  {
   "cell_type": "markdown",
   "id": "02809663-a810-4861-bf3b-438e6127ab6d",
   "metadata": {
    "jp-MarkdownHeadingCollapsed": true
   },
   "source": [
    "### - Principles of Backtracking"
   ]
  },
  {
   "cell_type": "markdown",
   "id": "46092c03-283c-4f03-a983-b045dc1c9971",
   "metadata": {
    "jp-MarkdownHeadingCollapsed": true
   },
   "source": [
    "### - Common Backtracking Problems (N-Queens, Sudoku Solver, Subset Sum)"
   ]
  },
  {
   "cell_type": "markdown",
   "id": "d99c342b-35d8-4401-a15c-57e211b17c2a",
   "metadata": {
    "jp-MarkdownHeadingCollapsed": true
   },
   "source": [
    "## 5. Divide and Conquer"
   ]
  },
  {
   "cell_type": "markdown",
   "id": "98b14a5e-3b6d-4a81-b609-766be42deca9",
   "metadata": {
    "jp-MarkdownHeadingCollapsed": true
   },
   "source": [
    "### - Principles of Divide and Conquer"
   ]
  },
  {
   "cell_type": "markdown",
   "id": "6b84a567-284e-4fbc-99de-f5ed8ba212f4",
   "metadata": {
    "jp-MarkdownHeadingCollapsed": true
   },
   "source": [
    "### - Common Divide and Conquer Problems (Merge Sort, Quick Sort, Binary Search)"
   ]
  },
  {
   "cell_type": "markdown",
   "id": "28aa9d33-b7e7-4a41-8c62-86f4392621db",
   "metadata": {
    "jp-MarkdownHeadingCollapsed": true
   },
   "source": [
    "## 6. String Algorithms"
   ]
  },
  {
   "cell_type": "markdown",
   "id": "4de81e8f-b50b-4352-be58-bf4c828609be",
   "metadata": {
    "jp-MarkdownHeadingCollapsed": true
   },
   "source": [
    "### - String Matching (Knuth-Morris-Pratt (KMP), Rabin_Karp, Boyer-Moore)"
   ]
  },
  {
   "cell_type": "markdown",
   "id": "c9dfab89-9b94-4f19-97df-69c0a475fec1",
   "metadata": {
    "jp-MarkdownHeadingCollapsed": true
   },
   "source": [
    "### - Suffix Arrays and Suffix Trees"
   ]
  },
  {
   "cell_type": "markdown",
   "id": "e774d4be-a6c8-4ddf-9d08-ef7ead86f742",
   "metadata": {
    "jp-MarkdownHeadingCollapsed": true
   },
   "source": [
    "### - Trie-based Algorithms"
   ]
  },
  {
   "cell_type": "markdown",
   "id": "ce522065-9876-49a1-becd-0064d4751740",
   "metadata": {
    "jp-MarkdownHeadingCollapsed": true
   },
   "source": [
    "### - Longest Common Substring"
   ]
  },
  {
   "cell_type": "markdown",
   "id": "4bd5a887-3662-45ed-a00d-f0b5544a3a67",
   "metadata": {
    "jp-MarkdownHeadingCollapsed": true
   },
   "source": [
    "## 7. Mathematical Algorithms"
   ]
  },
  {
   "cell_type": "markdown",
   "id": "f5f79cef-a011-4f34-9143-e98fa15e26ae",
   "metadata": {
    "jp-MarkdownHeadingCollapsed": true
   },
   "source": [
    "### - Prime Number Algorithms (Sieve of Eratosthenes)"
   ]
  },
  {
   "cell_type": "markdown",
   "id": "39755ad7-3d93-421d-9858-e8846d6c6e8e",
   "metadata": {
    "jp-MarkdownHeadingCollapsed": true
   },
   "source": [
    "### - Greatest Common Divisor (Euclidean Algorithm)"
   ]
  },
  {
   "cell_type": "markdown",
   "id": "71190f5f-7ae7-47dc-9722-710f61b14de6",
   "metadata": {
    "jp-MarkdownHeadingCollapsed": true
   },
   "source": [
    "### - Fast Exponentiation"
   ]
  },
  {
   "cell_type": "markdown",
   "id": "d2ab4bc5-585e-48ab-8332-3e38b193b687",
   "metadata": {
    "jp-MarkdownHeadingCollapsed": true
   },
   "source": [
    "### - Modular Arithmetic"
   ]
  },
  {
   "cell_type": "markdown",
   "id": "441e992f-ea27-49b1-b59f-3a49ef91158b",
   "metadata": {
    "jp-MarkdownHeadingCollapsed": true
   },
   "source": [
    "## 8. Bit Manipulation"
   ]
  },
  {
   "cell_type": "markdown",
   "id": "6d025311-7ef7-4774-8d8e-7cb5f52eac94",
   "metadata": {
    "jp-MarkdownHeadingCollapsed": true
   },
   "source": [
    "### - Bitwise Operations"
   ]
  },
  {
   "cell_type": "markdown",
   "id": "3544bb01-eaed-4690-88f5-fe49f23ea092",
   "metadata": {
    "jp-MarkdownHeadingCollapsed": true
   },
   "source": [
    "### - Applications of Bit Manipulation (Finding the single number, Counting bits)"
   ]
  },
  {
   "cell_type": "markdown",
   "id": "db4d6d73-be70-41f9-9c01-5743318a9a51",
   "metadata": {
    "jp-MarkdownHeadingCollapsed": true
   },
   "source": [
    "## 9. Approximation Algorithms"
   ]
  },
  {
   "cell_type": "markdown",
   "id": "748eaffc-eeaa-4b4a-8123-d2131a92157e",
   "metadata": {
    "jp-MarkdownHeadingCollapsed": true
   },
   "source": [
    "### - Techniques for NP-Hard Problems"
   ]
  },
  {
   "cell_type": "markdown",
   "id": "f59d2d24-d14a-4fb1-832d-3c8c092de78a",
   "metadata": {
    "jp-MarkdownHeadingCollapsed": true
   },
   "source": [
    "### - Example Problems (Traveling Salesman Problem, Vertex Cover)"
   ]
  },
  {
   "cell_type": "markdown",
   "id": "315294cc-c34f-485c-8688-30b975205441",
   "metadata": {
    "jp-MarkdownHeadingCollapsed": true
   },
   "source": [
    "## 10. Randomized Algorithms"
   ]
  },
  {
   "cell_type": "markdown",
   "id": "47d46333-2c36-48e8-b9fd-199550731e7f",
   "metadata": {
    "jp-MarkdownHeadingCollapsed": true
   },
   "source": [
    "### - Monte Carlo Algorithms"
   ]
  },
  {
   "cell_type": "markdown",
   "id": "008321b2-ce52-4ee3-aee6-01be14cf3de2",
   "metadata": {
    "jp-MarkdownHeadingCollapsed": true
   },
   "source": [
    "### - Las Vegas Algorithms"
   ]
  },
  {
   "cell_type": "markdown",
   "id": "c5afd3e3-d1b5-4335-a1f5-967cdcf180e9",
   "metadata": {
    "jp-MarkdownHeadingCollapsed": true
   },
   "source": [
    "# Phase 7: Algorithm Complexity and Optimization"
   ]
  },
  {
   "cell_type": "markdown",
   "id": "57d53938-fc95-42c2-9112-d13b211268f6",
   "metadata": {
    "jp-MarkdownHeadingCollapsed": true
   },
   "source": [
    "## 1. Complexity Analysis"
   ]
  },
  {
   "cell_type": "markdown",
   "id": "dc7536d4-fbb0-41f1-9bc4-d838da31059e",
   "metadata": {},
   "source": [
    "### - Time Complexity"
   ]
  },
  {
   "cell_type": "markdown",
   "id": "13a07a17-418b-49d6-bf86-d9dbda7a0255",
   "metadata": {},
   "source": [
    "### - Space Complexity"
   ]
  },
  {
   "cell_type": "markdown",
   "id": "f67c8171-6084-45be-b2b3-8997559828ca",
   "metadata": {},
   "source": [
    "### - Big O Notation, Big Theta, Big Omega "
   ]
  },
  {
   "cell_type": "markdown",
   "id": "279efcfb-f630-4a18-aeec-8d7da793e2ce",
   "metadata": {
    "jp-MarkdownHeadingCollapsed": true
   },
   "source": [
    "## 2. Algorithm Design Techniques"
   ]
  },
  {
   "cell_type": "markdown",
   "id": "c444c225-6b6b-4873-9a27-8fb5cf2b5eaa",
   "metadata": {},
   "source": [
    "### - Brute Force"
   ]
  },
  {
   "cell_type": "markdown",
   "id": "8b8e61e4-32b8-43d0-9e42-f7324424c4cf",
   "metadata": {},
   "source": [
    "### - Branch and Bound"
   ]
  },
  {
   "cell_type": "markdown",
   "id": "caf0592a-3964-4786-9d9c-7346045e530b",
   "metadata": {},
   "source": [
    "### - Recursive Algorithms"
   ]
  },
  {
   "cell_type": "markdown",
   "id": "9a3da1c0-e569-4d23-84a6-b5c604174789",
   "metadata": {
    "jp-MarkdownHeadingCollapsed": true
   },
   "source": [
    "## 3. Parallel Algorithms"
   ]
  },
  {
   "cell_type": "markdown",
   "id": "d34b6364-12a4-4f75-9a23-4383325ddc13",
   "metadata": {},
   "source": [
    "### - Concepts of Parallelism"
   ]
  },
  {
   "cell_type": "markdown",
   "id": "109e6883-9677-4fea-becc-894f489cd89a",
   "metadata": {},
   "source": [
    "### - Examples (Parallel Sorting, Parallel Matrix Multiplication)"
   ]
  }
 ],
 "metadata": {
  "kernelspec": {
   "display_name": "Python 3 (ipykernel)",
   "language": "python",
   "name": "python3"
  },
  "language_info": {
   "codemirror_mode": {
    "name": "ipython",
    "version": 3
   },
   "file_extension": ".py",
   "mimetype": "text/x-python",
   "name": "python",
   "nbconvert_exporter": "python",
   "pygments_lexer": "ipython3",
   "version": "3.12.3"
  }
 },
 "nbformat": 4,
 "nbformat_minor": 5
}
